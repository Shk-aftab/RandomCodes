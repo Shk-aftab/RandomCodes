{
  "nbformat": 4,
  "nbformat_minor": 0,
  "metadata": {
    "colab": {
      "name": "cats&dogCNN_classification.ipynb",
      "provenance": [],
      "collapsed_sections": [],
      "include_colab_link": true
    },
    "kernelspec": {
      "name": "python3",
      "display_name": "Python 3"
    },
    "accelerator": "TPU"
  },
  "cells": [
    {
      "cell_type": "markdown",
      "metadata": {
        "id": "view-in-github",
        "colab_type": "text"
      },
      "source": [
        "<a href=\"https://colab.research.google.com/github/Shk-aftab/AI/blob/master/cats%26dogCNN_classification.ipynb\" target=\"_parent\"><img src=\"https://colab.research.google.com/assets/colab-badge.svg\" alt=\"Open In Colab\"/></a>"
      ]
    },
    {
      "cell_type": "code",
      "metadata": {
        "id": "rlgrLpKg7PtP",
        "colab_type": "code",
        "colab": {}
      },
      "source": [
        ""
      ],
      "execution_count": 0,
      "outputs": []
    },
    {
      "cell_type": "code",
      "metadata": {
        "id": "-uzBzkDw7Lzx",
        "colab_type": "code",
        "outputId": "cc4ad566-ba24-4300-9046-e5b2fec01312",
        "colab": {
          "base_uri": "https://localhost:8080/",
          "height": 1000
        }
      },
      "source": [
        "!pip install --upgrade tensorflow"
      ],
      "execution_count": 0,
      "outputs": [
        {
          "output_type": "stream",
          "text": [
            "Collecting tensorflow\n",
            "\u001b[?25l  Downloading https://files.pythonhosted.org/packages/85/d4/c0cd1057b331bc38b65478302114194bd8e1b9c2bbc06e300935c0e93d90/tensorflow-2.1.0-cp36-cp36m-manylinux2010_x86_64.whl (421.8MB)\n",
            "\u001b[K     |████████████████████████████████| 421.8MB 37kB/s \n",
            "\u001b[?25hRequirement already satisfied, skipping upgrade: six>=1.12.0 in /usr/local/lib/python3.6/dist-packages (from tensorflow) (1.12.0)\n",
            "Requirement already satisfied, skipping upgrade: grpcio>=1.8.6 in /usr/local/lib/python3.6/dist-packages (from tensorflow) (1.15.0)\n",
            "Requirement already satisfied, skipping upgrade: wrapt>=1.11.1 in /usr/local/lib/python3.6/dist-packages (from tensorflow) (1.11.2)\n",
            "Requirement already satisfied, skipping upgrade: keras-applications>=1.0.8 in /usr/local/lib/python3.6/dist-packages (from tensorflow) (1.0.8)\n",
            "Collecting tensorflow-estimator<2.2.0,>=2.1.0rc0\n",
            "\u001b[?25l  Downloading https://files.pythonhosted.org/packages/18/90/b77c328a1304437ab1310b463e533fa7689f4bfc41549593056d812fab8e/tensorflow_estimator-2.1.0-py2.py3-none-any.whl (448kB)\n",
            "\u001b[K     |████████████████████████████████| 450kB 36.9MB/s \n",
            "\u001b[?25hRequirement already satisfied, skipping upgrade: gast==0.2.2 in /usr/local/lib/python3.6/dist-packages (from tensorflow) (0.2.2)\n",
            "Requirement already satisfied, skipping upgrade: keras-preprocessing>=1.1.0 in /usr/local/lib/python3.6/dist-packages (from tensorflow) (1.1.0)\n",
            "Collecting tensorboard<2.2.0,>=2.1.0\n",
            "\u001b[?25l  Downloading https://files.pythonhosted.org/packages/40/23/53ffe290341cd0855d595b0a2e7485932f473798af173bbe3a584b99bb06/tensorboard-2.1.0-py3-none-any.whl (3.8MB)\n",
            "\u001b[K     |████████████████████████████████| 3.8MB 43.9MB/s \n",
            "\u001b[?25hRequirement already satisfied, skipping upgrade: scipy==1.4.1; python_version >= \"3\" in /usr/local/lib/python3.6/dist-packages (from tensorflow) (1.4.1)\n",
            "Requirement already satisfied, skipping upgrade: wheel>=0.26; python_version >= \"3\" in /usr/local/lib/python3.6/dist-packages (from tensorflow) (0.33.6)\n",
            "Requirement already satisfied, skipping upgrade: astor>=0.6.0 in /usr/local/lib/python3.6/dist-packages (from tensorflow) (0.8.1)\n",
            "Requirement already satisfied, skipping upgrade: google-pasta>=0.1.6 in /usr/local/lib/python3.6/dist-packages (from tensorflow) (0.1.8)\n",
            "Requirement already satisfied, skipping upgrade: absl-py>=0.7.0 in /usr/local/lib/python3.6/dist-packages (from tensorflow) (0.9.0)\n",
            "Requirement already satisfied, skipping upgrade: protobuf>=3.8.0 in /usr/local/lib/python3.6/dist-packages (from tensorflow) (3.10.0)\n",
            "Requirement already satisfied, skipping upgrade: numpy<2.0,>=1.16.0 in /usr/local/lib/python3.6/dist-packages (from tensorflow) (1.17.5)\n",
            "Requirement already satisfied, skipping upgrade: termcolor>=1.1.0 in /usr/local/lib/python3.6/dist-packages (from tensorflow) (1.1.0)\n",
            "Requirement already satisfied, skipping upgrade: opt-einsum>=2.3.2 in /usr/local/lib/python3.6/dist-packages (from tensorflow) (3.1.0)\n",
            "Requirement already satisfied, skipping upgrade: h5py in /usr/local/lib/python3.6/dist-packages (from keras-applications>=1.0.8->tensorflow) (2.8.0)\n",
            "Requirement already satisfied, skipping upgrade: google-auth-oauthlib<0.5,>=0.4.1 in /usr/local/lib/python3.6/dist-packages (from tensorboard<2.2.0,>=2.1.0->tensorflow) (0.4.1)\n",
            "Requirement already satisfied, skipping upgrade: werkzeug>=0.11.15 in /usr/local/lib/python3.6/dist-packages (from tensorboard<2.2.0,>=2.1.0->tensorflow) (0.16.0)\n",
            "Collecting google-auth<2,>=1.6.3\n",
            "\u001b[?25l  Downloading https://files.pythonhosted.org/packages/36/f8/84b5771faec3eba9fe0c91c8c5896364a8ba08852c0dea5ad2025026dd95/google_auth-1.10.0-py2.py3-none-any.whl (76kB)\n",
            "\u001b[K     |████████████████████████████████| 81kB 9.6MB/s \n",
            "\u001b[?25hRequirement already satisfied, skipping upgrade: markdown>=2.6.8 in /usr/local/lib/python3.6/dist-packages (from tensorboard<2.2.0,>=2.1.0->tensorflow) (3.1.1)\n",
            "Requirement already satisfied, skipping upgrade: requests<3,>=2.21.0 in /usr/local/lib/python3.6/dist-packages (from tensorboard<2.2.0,>=2.1.0->tensorflow) (2.21.0)\n",
            "Requirement already satisfied, skipping upgrade: setuptools>=41.0.0 in /usr/local/lib/python3.6/dist-packages (from tensorboard<2.2.0,>=2.1.0->tensorflow) (42.0.2)\n",
            "Requirement already satisfied, skipping upgrade: requests-oauthlib>=0.7.0 in /usr/local/lib/python3.6/dist-packages (from google-auth-oauthlib<0.5,>=0.4.1->tensorboard<2.2.0,>=2.1.0->tensorflow) (1.3.0)\n",
            "Requirement already satisfied, skipping upgrade: pyasn1-modules>=0.2.1 in /usr/local/lib/python3.6/dist-packages (from google-auth<2,>=1.6.3->tensorboard<2.2.0,>=2.1.0->tensorflow) (0.2.7)\n",
            "Requirement already satisfied, skipping upgrade: cachetools<5.0,>=2.0.0 in /usr/local/lib/python3.6/dist-packages (from google-auth<2,>=1.6.3->tensorboard<2.2.0,>=2.1.0->tensorflow) (4.0.0)\n",
            "Requirement already satisfied, skipping upgrade: rsa<4.1,>=3.1.4 in /usr/local/lib/python3.6/dist-packages (from google-auth<2,>=1.6.3->tensorboard<2.2.0,>=2.1.0->tensorflow) (4.0)\n",
            "Requirement already satisfied, skipping upgrade: certifi>=2017.4.17 in /usr/local/lib/python3.6/dist-packages (from requests<3,>=2.21.0->tensorboard<2.2.0,>=2.1.0->tensorflow) (2019.11.28)\n",
            "Requirement already satisfied, skipping upgrade: idna<2.9,>=2.5 in /usr/local/lib/python3.6/dist-packages (from requests<3,>=2.21.0->tensorboard<2.2.0,>=2.1.0->tensorflow) (2.8)\n",
            "Requirement already satisfied, skipping upgrade: urllib3<1.25,>=1.21.1 in /usr/local/lib/python3.6/dist-packages (from requests<3,>=2.21.0->tensorboard<2.2.0,>=2.1.0->tensorflow) (1.24.3)\n",
            "Requirement already satisfied, skipping upgrade: chardet<3.1.0,>=3.0.2 in /usr/local/lib/python3.6/dist-packages (from requests<3,>=2.21.0->tensorboard<2.2.0,>=2.1.0->tensorflow) (3.0.4)\n",
            "Requirement already satisfied, skipping upgrade: oauthlib>=3.0.0 in /usr/local/lib/python3.6/dist-packages (from requests-oauthlib>=0.7.0->google-auth-oauthlib<0.5,>=0.4.1->tensorboard<2.2.0,>=2.1.0->tensorflow) (3.1.0)\n",
            "Requirement already satisfied, skipping upgrade: pyasn1<0.5.0,>=0.4.6 in /usr/local/lib/python3.6/dist-packages (from pyasn1-modules>=0.2.1->google-auth<2,>=1.6.3->tensorboard<2.2.0,>=2.1.0->tensorflow) (0.4.8)\n",
            "\u001b[31mERROR: tensorboard 2.1.0 has requirement grpcio>=1.24.3, but you'll have grpcio 1.15.0 which is incompatible.\u001b[0m\n",
            "\u001b[31mERROR: google-colab 1.0.0 has requirement google-auth~=1.4.0, but you'll have google-auth 1.10.0 which is incompatible.\u001b[0m\n",
            "Installing collected packages: tensorflow-estimator, google-auth, tensorboard, tensorflow\n",
            "  Found existing installation: tensorflow-estimator 1.15.1\n",
            "    Uninstalling tensorflow-estimator-1.15.1:\n",
            "      Successfully uninstalled tensorflow-estimator-1.15.1\n",
            "  Found existing installation: google-auth 1.4.2\n",
            "    Uninstalling google-auth-1.4.2:\n",
            "      Successfully uninstalled google-auth-1.4.2\n",
            "  Found existing installation: tensorboard 1.15.0\n",
            "    Uninstalling tensorboard-1.15.0:\n",
            "      Successfully uninstalled tensorboard-1.15.0\n",
            "  Found existing installation: tensorflow 1.15.0\n",
            "    Uninstalling tensorflow-1.15.0:\n",
            "      Successfully uninstalled tensorflow-1.15.0\n",
            "Successfully installed google-auth-1.10.0 tensorboard-2.1.0 tensorflow-2.1.0 tensorflow-estimator-2.1.0\n"
          ],
          "name": "stdout"
        },
        {
          "output_type": "display_data",
          "data": {
            "application/vnd.colab-display-data+json": {
              "pip_warning": {
                "packages": [
                  "google"
                ]
              }
            }
          },
          "metadata": {
            "tags": []
          }
        }
      ]
    },
    {
      "cell_type": "code",
      "metadata": {
        "id": "qLlLtt1U7VPb",
        "colab_type": "code",
        "outputId": "fc703183-b3bf-43f6-ebf3-443916b83e8d",
        "colab": {
          "base_uri": "https://localhost:8080/",
          "height": 122
        }
      },
      "source": [
        "\n",
        "from google.colab import drive\n",
        "drive.mount('/content/drive')"
      ],
      "execution_count": 0,
      "outputs": [
        {
          "output_type": "stream",
          "text": [
            "Go to this URL in a browser: https://accounts.google.com/o/oauth2/auth?client_id=947318989803-6bn6qk8qdgf4n4g3pfee6491hc0brc4i.apps.googleusercontent.com&redirect_uri=urn%3aietf%3awg%3aoauth%3a2.0%3aoob&response_type=code&scope=email%20https%3a%2f%2fwww.googleapis.com%2fauth%2fdocs.test%20https%3a%2f%2fwww.googleapis.com%2fauth%2fdrive%20https%3a%2f%2fwww.googleapis.com%2fauth%2fdrive.photos.readonly%20https%3a%2f%2fwww.googleapis.com%2fauth%2fpeopleapi.readonly\n",
            "\n",
            "Enter your authorization code:\n",
            "··········\n",
            "Mounted at /content/drive\n"
          ],
          "name": "stdout"
        }
      ]
    },
    {
      "cell_type": "code",
      "metadata": {
        "id": "inSGpNP18C3r",
        "colab_type": "code",
        "colab": {}
      },
      "source": [
        ""
      ],
      "execution_count": 0,
      "outputs": []
    },
    {
      "cell_type": "code",
      "metadata": {
        "id": "Ge3pXvxQBBwn",
        "colab_type": "code",
        "colab": {}
      },
      "source": [
        "import pandas as pd\n",
        "import numpy as np\n",
        "import matplotlib.pyplot as plt\n",
        "import tensorflow as tf\n",
        "import os\n",
        "from tensorflow.keras.preprocessing import image\n",
        "from zipfile import ZipFile \n",
        "\n",
        "from tensorflow.keras.models import Sequential\n",
        "from tensorflow.keras.layers import Conv2D, MaxPooling2D, Flatten, Dense, Dropout, Activation\n",
        "from tensorflow.keras.preprocessing.image import ImageDataGenerator\n",
        "\n"
      ],
      "execution_count": 0,
      "outputs": []
    },
    {
      "cell_type": "code",
      "metadata": {
        "id": "46tP5E_V8k11",
        "colab_type": "code",
        "colab": {}
      },
      "source": [
        "test_dir=\"/content/drive/My Drive/datasets/cats&dogs_classification/CNN classification/dataset/test_set\"\n",
        "train_dir=\"/content/drive/My Drive/datasets/cats&dogs_classification/CNN classification/dataset/training_set\"\n",
        "\n",
        "\n",
        "train_dir_cats = train_dir + '/cats'\n",
        "train_dir_dogs = train_dir + '/dogs'\n",
        "test_dir_cats = test_dir + '/cats'\n",
        "test_dir_dogs = test_dir + '/dogs'"
      ],
      "execution_count": 0,
      "outputs": []
    },
    {
      "cell_type": "code",
      "metadata": {
        "id": "3v6NGds_Aewc",
        "colab_type": "code",
        "outputId": "6cf24c7f-7256-42e5-8596-07933b92b53a",
        "colab": {
          "base_uri": "https://localhost:8080/",
          "height": 85
        }
      },
      "source": [
        "print('number of cats training images - ',len(os.listdir(train_dir_cats)))\n",
        "print('number of dogs training images - ',len(os.listdir(train_dir_dogs)))\n",
        "print('number of cats testing images - ',len(os.listdir(test_dir_cats)))\n",
        "print('number of dogs testing images - ',len(os.listdir(test_dir_dogs)))"
      ],
      "execution_count": 0,
      "outputs": [
        {
          "output_type": "stream",
          "text": [
            "number of cats training images -  4000\n",
            "number of dogs training images -  4002\n",
            "number of cats testing images -  1000\n",
            "number of dogs testing images -  1000\n"
          ],
          "name": "stdout"
        }
      ]
    },
    {
      "cell_type": "code",
      "metadata": {
        "id": "dt0XpINHA7vJ",
        "colab_type": "code",
        "outputId": "13e78001-6dfc-4498-e42b-d758e3ea32fc",
        "colab": {
          "base_uri": "https://localhost:8080/",
          "height": 51
        }
      },
      "source": [
        "train_datagen = ImageDataGenerator(\n",
        "        rescale = 1./255,\n",
        "        shear_range = 0.2,\n",
        "        zoom_range = 0.2,\n",
        "        horizontal_flip = True)\n",
        "\n",
        "test_datagen = ImageDataGenerator(rescale=1./255)\n",
        "\n",
        "training_set = train_datagen.flow_from_directory(\n",
        "         directory='drive/My Drive/datasets/cats&dogs_classification/CNN classification/dataset/training_set',\n",
        "        target_size=(150, 150),\n",
        "        batch_size=64,\n",
        "        shuffle=True,\n",
        "        class_mode='binary')\n",
        "\n",
        "test_set = test_datagen.flow_from_directory(\n",
        "         directory='drive/My Drive/datasets/cats&dogs_classification/CNN classification/dataset/test_set',\n",
        "        target_size=(150, 150),\n",
        "        batch_size=64,\n",
        "        shuffle=True,\n",
        "        class_mode='binary') "
      ],
      "execution_count": 0,
      "outputs": [
        {
          "output_type": "stream",
          "text": [
            "Found 8002 images belonging to 2 classes.\n",
            "Found 2000 images belonging to 2 classes.\n"
          ],
          "name": "stdout"
        }
      ]
    },
    {
      "cell_type": "code",
      "metadata": {
        "id": "ZUgO31UkYPUx",
        "colab_type": "code",
        "colab": {}
      },
      "source": [
        "model = tf.keras.Sequential([\n",
        "        tf.keras.layers.Conv2D(32,3,input_shape=(150,150,3),activation='relu'),\n",
        "        tf.keras.layers.MaxPooling2D(pool_size=(2,2)),\n",
        "        \n",
        "\n",
        "        tf.keras.layers.Conv2D(32,3,activation='relu'),\n",
        "        tf.keras.layers.MaxPooling2D(pool_size=(2,2)),\n",
        "        \n",
        "\n",
        "        tf.keras.layers.Conv2D(64,3,activation='relu'),\n",
        "        tf.keras.layers.MaxPooling2D(pool_size=(2,2)),\n",
        "        tf.keras.layers.Dropout(rate=0.5),\n",
        "\n",
        "\n",
        "        tf.keras.layers.Flatten(),\n",
        "\n",
        "        tf.keras.layers.Dense(128, activation='relu'),\n",
        "        tf.keras.layers.Dropout(rate=0.5),\n",
        "\n",
        "        tf.keras.layers.Dense(64, activation='relu'),\n",
        "        tf.keras.layers.Dropout(rate=0.5),\n",
        "\n",
        "        tf.keras.layers.Dense(1, activation='sigmoid')\n",
        "])"
      ],
      "execution_count": 0,
      "outputs": []
    },
    {
      "cell_type": "code",
      "metadata": {
        "id": "SKg4l9fL41Ht",
        "colab_type": "code",
        "colab": {}
      },
      "source": [
        ""
      ],
      "execution_count": 0,
      "outputs": []
    },
    {
      "cell_type": "code",
      "metadata": {
        "id": "kLjyzLzmBlIV",
        "colab_type": "code",
        "colab": {}
      },
      "source": [
        "\n",
        "\n",
        "model.compile(optimizer = 'adam', loss = 'binary_crossentropy', metrics = ['accuracy'])"
      ],
      "execution_count": 0,
      "outputs": []
    },
    {
      "cell_type": "code",
      "metadata": {
        "id": "X9wQgkJ2CzMX",
        "colab_type": "code",
        "outputId": "3df4197f-659e-4ff1-e2d5-1685d4324c56",
        "colab": {
          "base_uri": "https://localhost:8080/",
          "height": 595
        }
      },
      "source": [
        "model.summary()"
      ],
      "execution_count": 0,
      "outputs": [
        {
          "output_type": "stream",
          "text": [
            "Model: \"sequential_8\"\n",
            "_________________________________________________________________\n",
            "Layer (type)                 Output Shape              Param #   \n",
            "=================================================================\n",
            "conv2d_24 (Conv2D)           (None, 148, 148, 32)      896       \n",
            "_________________________________________________________________\n",
            "max_pooling2d_24 (MaxPooling (None, 74, 74, 32)        0         \n",
            "_________________________________________________________________\n",
            "conv2d_25 (Conv2D)           (None, 72, 72, 32)        9248      \n",
            "_________________________________________________________________\n",
            "max_pooling2d_25 (MaxPooling (None, 36, 36, 32)        0         \n",
            "_________________________________________________________________\n",
            "conv2d_26 (Conv2D)           (None, 34, 34, 64)        18496     \n",
            "_________________________________________________________________\n",
            "max_pooling2d_26 (MaxPooling (None, 17, 17, 64)        0         \n",
            "_________________________________________________________________\n",
            "dropout_21 (Dropout)         (None, 17, 17, 64)        0         \n",
            "_________________________________________________________________\n",
            "flatten_8 (Flatten)          (None, 18496)             0         \n",
            "_________________________________________________________________\n",
            "dense_23 (Dense)             (None, 128)               2367616   \n",
            "_________________________________________________________________\n",
            "dropout_22 (Dropout)         (None, 128)               0         \n",
            "_________________________________________________________________\n",
            "dense_24 (Dense)             (None, 64)                8256      \n",
            "_________________________________________________________________\n",
            "dropout_23 (Dropout)         (None, 64)                0         \n",
            "_________________________________________________________________\n",
            "dense_25 (Dense)             (None, 1)                 65        \n",
            "=================================================================\n",
            "Total params: 2,404,577\n",
            "Trainable params: 2,404,577\n",
            "Non-trainable params: 0\n",
            "_________________________________________________________________\n"
          ],
          "name": "stdout"
        }
      ]
    },
    {
      "cell_type": "code",
      "metadata": {
        "id": "wUaWxFybCpqG",
        "colab_type": "code",
        "outputId": "4f130b18-383b-4507-a730-68500594d1c8",
        "colab": {
          "base_uri": "https://localhost:8080/",
          "height": 1000
        }
      },
      "source": [
        "Trained_model=model.fit_generator(training_set,\n",
        "                        steps_per_epoch = 125,\n",
        "                        epochs =30 ,\n",
        "                        validation_data = test_set,\n",
        "                        validation_steps =30 )\n",
        "\n",
        "model.save(\"modelcats&dogs.h5\")"
      ],
      "execution_count": 39,
      "outputs": [
        {
          "output_type": "stream",
          "text": [
            "WARNING:tensorflow:sample_weight modes were coerced from\n",
            "  ...\n",
            "    to  \n",
            "  ['...']\n",
            "WARNING:tensorflow:sample_weight modes were coerced from\n",
            "  ...\n",
            "    to  \n",
            "  ['...']\n",
            "Train for 125 steps, validate for 30 steps\n",
            "Epoch 1/30\n",
            "125/125 [==============================] - 1065s 9s/step - loss: 0.6817 - accuracy: 0.5692 - val_loss: 0.8221 - val_accuracy: 0.5224\n",
            "Epoch 2/30\n",
            "125/125 [==============================] - 293s 2s/step - loss: 0.6608 - accuracy: 0.6211 - val_loss: 0.6570 - val_accuracy: 0.6229\n",
            "Epoch 3/30\n",
            "125/125 [==============================] - 290s 2s/step - loss: 0.6267 - accuracy: 0.6563 - val_loss: 0.6335 - val_accuracy: 0.6411\n",
            "Epoch 4/30\n",
            "125/125 [==============================] - 289s 2s/step - loss: 0.5897 - accuracy: 0.6897 - val_loss: 0.5408 - val_accuracy: 0.7391\n",
            "Epoch 5/30\n",
            "125/125 [==============================] - 290s 2s/step - loss: 0.5553 - accuracy: 0.7181 - val_loss: 0.5565 - val_accuracy: 0.7115\n",
            "Epoch 6/30\n",
            "125/125 [==============================] - 290s 2s/step - loss: 0.5303 - accuracy: 0.7353 - val_loss: 0.4868 - val_accuracy: 0.7807\n",
            "Epoch 7/30\n",
            "125/125 [==============================] - 290s 2s/step - loss: 0.5218 - accuracy: 0.7501 - val_loss: 0.4934 - val_accuracy: 0.7667\n",
            "Epoch 8/30\n",
            "125/125 [==============================] - 289s 2s/step - loss: 0.4900 - accuracy: 0.7669 - val_loss: 0.5087 - val_accuracy: 0.7547\n",
            "Epoch 9/30\n",
            "125/125 [==============================] - 290s 2s/step - loss: 0.4725 - accuracy: 0.7763 - val_loss: 0.4651 - val_accuracy: 0.7818\n",
            "Epoch 10/30\n",
            "125/125 [==============================] - 290s 2s/step - loss: 0.4788 - accuracy: 0.7743 - val_loss: 0.4394 - val_accuracy: 0.8000\n",
            "Epoch 11/30\n",
            "125/125 [==============================] - 291s 2s/step - loss: 0.4669 - accuracy: 0.7836 - val_loss: 0.4344 - val_accuracy: 0.8052\n",
            "Epoch 12/30\n",
            "125/125 [==============================] - 288s 2s/step - loss: 0.4414 - accuracy: 0.7955 - val_loss: 0.4167 - val_accuracy: 0.8188\n",
            "Epoch 13/30\n",
            "125/125 [==============================] - 288s 2s/step - loss: 0.4310 - accuracy: 0.7996 - val_loss: 0.4170 - val_accuracy: 0.8083\n",
            "Epoch 14/30\n",
            "125/125 [==============================] - 288s 2s/step - loss: 0.4359 - accuracy: 0.8014 - val_loss: 0.4440 - val_accuracy: 0.7911\n",
            "Epoch 15/30\n",
            "125/125 [==============================] - 287s 2s/step - loss: 0.4175 - accuracy: 0.8123 - val_loss: 0.4026 - val_accuracy: 0.8229\n",
            "Epoch 16/30\n",
            "125/125 [==============================] - 287s 2s/step - loss: 0.4151 - accuracy: 0.8131 - val_loss: 0.3975 - val_accuracy: 0.8245\n",
            "Epoch 17/30\n",
            "125/125 [==============================] - 285s 2s/step - loss: 0.3996 - accuracy: 0.8204 - val_loss: 0.3917 - val_accuracy: 0.8333\n",
            "Epoch 18/30\n",
            "125/125 [==============================] - 285s 2s/step - loss: 0.3949 - accuracy: 0.8217 - val_loss: 0.4126 - val_accuracy: 0.8141\n",
            "Epoch 19/30\n",
            "125/125 [==============================] - 284s 2s/step - loss: 0.3877 - accuracy: 0.8267 - val_loss: 0.3828 - val_accuracy: 0.8438\n",
            "Epoch 20/30\n",
            "125/125 [==============================] - 286s 2s/step - loss: 0.3975 - accuracy: 0.8226 - val_loss: 0.3809 - val_accuracy: 0.8302\n",
            "Epoch 21/30\n",
            "125/125 [==============================] - 286s 2s/step - loss: 0.3611 - accuracy: 0.8357 - val_loss: 0.3758 - val_accuracy: 0.8297\n",
            "Epoch 22/30\n",
            "125/125 [==============================] - 285s 2s/step - loss: 0.3673 - accuracy: 0.8365 - val_loss: 0.3927 - val_accuracy: 0.8203\n",
            "Epoch 23/30\n",
            "125/125 [==============================] - 284s 2s/step - loss: 0.3590 - accuracy: 0.8439 - val_loss: 0.3647 - val_accuracy: 0.8281\n",
            "Epoch 24/30\n",
            "125/125 [==============================] - 284s 2s/step - loss: 0.3635 - accuracy: 0.8376 - val_loss: 0.3979 - val_accuracy: 0.8182\n",
            "Epoch 25/30\n",
            "125/125 [==============================] - 283s 2s/step - loss: 0.3554 - accuracy: 0.8437 - val_loss: 0.3828 - val_accuracy: 0.8354\n",
            "Epoch 26/30\n",
            "125/125 [==============================] - 284s 2s/step - loss: 0.3438 - accuracy: 0.8505 - val_loss: 0.3415 - val_accuracy: 0.8568\n",
            "Epoch 27/30\n",
            "125/125 [==============================] - 284s 2s/step - loss: 0.3367 - accuracy: 0.8534 - val_loss: 0.3599 - val_accuracy: 0.8484\n",
            "Epoch 28/30\n",
            "125/125 [==============================] - 286s 2s/step - loss: 0.3368 - accuracy: 0.8496 - val_loss: 0.3591 - val_accuracy: 0.8417\n",
            "Epoch 29/30\n",
            "125/125 [==============================] - 289s 2s/step - loss: 0.3375 - accuracy: 0.8545 - val_loss: 0.3615 - val_accuracy: 0.8490\n",
            "Epoch 30/30\n",
            "125/125 [==============================] - 288s 2s/step - loss: 0.3318 - accuracy: 0.8549 - val_loss: 0.3461 - val_accuracy: 0.8536\n"
          ],
          "name": "stdout"
        }
      ]
    },
    {
      "cell_type": "code",
      "metadata": {
        "id": "U3ah6v6hhfD_",
        "colab_type": "code",
        "colab": {
          "base_uri": "https://localhost:8080/",
          "height": 34
        },
        "outputId": "8386b79c-0955-4f5a-d999-9806bb9531b4"
      },
      "source": [
        "Trained_model.history.keys()"
      ],
      "execution_count": 44,
      "outputs": [
        {
          "output_type": "execute_result",
          "data": {
            "text/plain": [
              "dict_keys(['loss', 'accuracy', 'val_loss', 'val_accuracy'])"
            ]
          },
          "metadata": {
            "tags": []
          },
          "execution_count": 44
        }
      ]
    },
    {
      "cell_type": "code",
      "metadata": {
        "id": "SUIIOxvGDpxI",
        "colab_type": "code",
        "colab": {
          "base_uri": "https://localhost:8080/",
          "height": 295
        },
        "outputId": "3ee28e4b-74fa-48d8-c33f-b9bfb928d33f"
      },
      "source": [
        "plt.plot(Trained_model.history['accuracy'])\n",
        "plt.plot(Trained_model.history['val_accuracy'])\n",
        "plt.title('model accuracy')\n",
        "plt.ylabel('Training accuracy')\n",
        "plt.xlabel('Validation accuracy')\n",
        "plt.legend(['train', 'val'], loc='upper left')\n",
        "plt.show()"
      ],
      "execution_count": 46,
      "outputs": [
        {
          "output_type": "display_data",
          "data": {
            "image/png": "[encoded data removed]",
            "text/plain": [
              "<Figure size 432x288 with 1 Axes>"
            ]
          },
          "metadata": {
            "tags": []
          }
        }
      ]
    },
    {
      "cell_type": "code",
      "metadata": {
        "id": "mOrXNlODuqHU",
        "colab_type": "code",
        "colab": {
          "base_uri": "https://localhost:8080/",
          "height": 295
        },
        "outputId": "c55cc2ee-80f8-455b-e142-1289a7e0cae5"
      },
      "source": [
        "plt.plot(Trained_model.history['loss'])\n",
        "plt.plot(Trained_model.history['val_loss'])\n",
        "plt.title('model loss')\n",
        "plt.ylabel('Training loss')\n",
        "plt.xlabel('Validation loss')\n",
        "plt.legend(['train', 'val'], loc='upper left')\n",
        "plt.show()"
      ],
      "execution_count": 47,
      "outputs": [
        {
          "output_type": "display_data",
          "data": {
            "image/png": "[encoded data removed]",
            "text/plain": [
              "<Figure size 432x288 with 1 Axes>"
            ]
          },
          "metadata": {
            "tags": []
          }
        }
      ]
    },
    {
      "cell_type": "code",
      "metadata": {
        "id": "-GlhSiEYEDxR",
        "colab_type": "code",
        "colab": {}
      },
      "source": [
        "def testing_image(image_directory):\n",
        "    test_image = image.load_img(image_directory, target_size = (150, 150))\n",
        "    test_image = image.img_to_array(test_image)\n",
        "    test_image = np.expand_dims(test_image, axis = 0)\n",
        "    result = model.predict(x = test_image)\n",
        "    print(result)\n",
        "    if result[0][0]  == 1:\n",
        "        prediction = 'Dog'\n",
        "    else:\n",
        "        prediction = 'Cat'\n",
        "    return prediction"
      ],
      "execution_count": 0,
      "outputs": []
    },
    {
      "cell_type": "code",
      "metadata": {
        "id": "_-EwNNrzE0B2",
        "colab_type": "code",
        "outputId": "88fc2229-db03-4184-a531-33dea23ed8e8",
        "colab": {
          "base_uri": "https://localhost:8080/",
          "height": 50
        }
      },
      "source": [
        "print(testing_image(test_dir + '/cats/cat.4011.jpg'))"
      ],
      "execution_count": 51,
      "outputs": [
        {
          "output_type": "stream",
          "text": [
            "[[0.]]\n",
            "Cat\n"
          ],
          "name": "stdout"
        }
      ]
    },
    {
      "cell_type": "code",
      "metadata": {
        "id": "nLMBI0iYE8B1",
        "colab_type": "code",
        "outputId": "f6449930-28ed-4bb0-d32c-c5a7cb14d354",
        "colab": {
          "base_uri": "https://localhost:8080/",
          "height": 50
        }
      },
      "source": [
        "print(testing_image(test_dir + '/dogs/dog.4078.jpg'))"
      ],
      "execution_count": 0,
      "outputs": [
        {
          "output_type": "stream",
          "text": [
            "[[1.]]\n",
            "Dog\n"
          ],
          "name": "stdout"
        }
      ]
    },
    {
      "cell_type": "code",
      "metadata": {
        "id": "6V28AkhNGtMk",
        "colab_type": "code",
        "colab": {}
      },
      "source": [
        ""
      ],
      "execution_count": 0,
      "outputs": []
    }
  ]
}