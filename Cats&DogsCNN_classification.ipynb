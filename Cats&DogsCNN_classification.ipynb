{
  "nbformat": 4,
  "nbformat_minor": 0,
  "metadata": {
    "colab": {
      "name": "Untitled6.ipynb",
      "provenance": [],
      "collapsed_sections": [],
      "include_colab_link": true
    },
    "kernelspec": {
      "name": "python3",
      "display_name": "Python 3"
    },
    "accelerator": "TPU"
  },
  "cells": [
    {
      "cell_type": "markdown",
      "metadata": {
        "id": "view-in-github",
        "colab_type": "text"
      },
      "source": [
        "<a href=\"https://colab.research.google.com/github/Shk-aftab/AI/blob/master/Cats%26DogsCNN_classification.ipynb\" target=\"_parent\"><img src=\"https://colab.research.google.com/assets/colab-badge.svg\" alt=\"Open In Colab\"/></a>"
      ]
    },
    {
      "cell_type": "code",
      "metadata": {
        "id": "rlgrLpKg7PtP",
        "colab_type": "code",
        "colab": {}
      },
      "source": [
        ""
      ],
      "execution_count": 0,
      "outputs": []
    },
    {
      "cell_type": "code",
      "metadata": {
        "id": "-uzBzkDw7Lzx",
        "colab_type": "code",
        "outputId": "1efe49b2-3546-4fa5-c48c-610184fd09c2",
        "colab": {
          "base_uri": "https://localhost:8080/",
          "height": 1000
        }
      },
      "source": [
        "!pip install --upgrade tensorflow"
      ],
      "execution_count": 3,
      "outputs": [
        {
          "output_type": "stream",
          "text": [
            "Collecting tensorflow\n",
            "\u001b[?25l  Downloading https://files.pythonhosted.org/packages/85/d4/c0cd1057b331bc38b65478302114194bd8e1b9c2bbc06e300935c0e93d90/tensorflow-2.1.0-cp36-cp36m-manylinux2010_x86_64.whl (421.8MB)\n",
            "\u001b[K     |████████████████████████████████| 421.8MB 35kB/s \n",
            "\u001b[?25hRequirement already satisfied, skipping upgrade: keras-preprocessing>=1.1.0 in /usr/local/lib/python3.6/dist-packages (from tensorflow) (1.1.0)\n",
            "Requirement already satisfied, skipping upgrade: gast==0.2.2 in /usr/local/lib/python3.6/dist-packages (from tensorflow) (0.2.2)\n",
            "Requirement already satisfied, skipping upgrade: google-pasta>=0.1.6 in /usr/local/lib/python3.6/dist-packages (from tensorflow) (0.1.8)\n",
            "Requirement already satisfied, skipping upgrade: wheel>=0.26; python_version >= \"3\" in /usr/local/lib/python3.6/dist-packages (from tensorflow) (0.33.6)\n",
            "Requirement already satisfied, skipping upgrade: wrapt>=1.11.1 in /usr/local/lib/python3.6/dist-packages (from tensorflow) (1.11.2)\n",
            "Requirement already satisfied, skipping upgrade: scipy==1.4.1; python_version >= \"3\" in /usr/local/lib/python3.6/dist-packages (from tensorflow) (1.4.1)\n",
            "Requirement already satisfied, skipping upgrade: termcolor>=1.1.0 in /usr/local/lib/python3.6/dist-packages (from tensorflow) (1.1.0)\n",
            "Collecting tensorboard<2.2.0,>=2.1.0\n",
            "\u001b[?25l  Downloading https://files.pythonhosted.org/packages/40/23/53ffe290341cd0855d595b0a2e7485932f473798af173bbe3a584b99bb06/tensorboard-2.1.0-py3-none-any.whl (3.8MB)\n",
            "\u001b[K     |████████████████████████████████| 3.8MB 45.0MB/s \n",
            "\u001b[?25hRequirement already satisfied, skipping upgrade: astor>=0.6.0 in /usr/local/lib/python3.6/dist-packages (from tensorflow) (0.8.1)\n",
            "Requirement already satisfied, skipping upgrade: six>=1.12.0 in /usr/local/lib/python3.6/dist-packages (from tensorflow) (1.12.0)\n",
            "Requirement already satisfied, skipping upgrade: keras-applications>=1.0.8 in /usr/local/lib/python3.6/dist-packages (from tensorflow) (1.0.8)\n",
            "Requirement already satisfied, skipping upgrade: opt-einsum>=2.3.2 in /usr/local/lib/python3.6/dist-packages (from tensorflow) (3.1.0)\n",
            "Requirement already satisfied, skipping upgrade: absl-py>=0.7.0 in /usr/local/lib/python3.6/dist-packages (from tensorflow) (0.9.0)\n",
            "Requirement already satisfied, skipping upgrade: grpcio>=1.8.6 in /usr/local/lib/python3.6/dist-packages (from tensorflow) (1.15.0)\n",
            "Collecting tensorflow-estimator<2.2.0,>=2.1.0rc0\n",
            "\u001b[?25l  Downloading https://files.pythonhosted.org/packages/18/90/b77c328a1304437ab1310b463e533fa7689f4bfc41549593056d812fab8e/tensorflow_estimator-2.1.0-py2.py3-none-any.whl (448kB)\n",
            "\u001b[K     |████████████████████████████████| 450kB 44.5MB/s \n",
            "\u001b[?25hRequirement already satisfied, skipping upgrade: protobuf>=3.8.0 in /usr/local/lib/python3.6/dist-packages (from tensorflow) (3.10.0)\n",
            "Requirement already satisfied, skipping upgrade: numpy<2.0,>=1.16.0 in /usr/local/lib/python3.6/dist-packages (from tensorflow) (1.17.5)\n",
            "Requirement already satisfied, skipping upgrade: markdown>=2.6.8 in /usr/local/lib/python3.6/dist-packages (from tensorboard<2.2.0,>=2.1.0->tensorflow) (3.1.1)\n",
            "Requirement already satisfied, skipping upgrade: requests<3,>=2.21.0 in /usr/local/lib/python3.6/dist-packages (from tensorboard<2.2.0,>=2.1.0->tensorflow) (2.21.0)\n",
            "Requirement already satisfied, skipping upgrade: google-auth-oauthlib<0.5,>=0.4.1 in /usr/local/lib/python3.6/dist-packages (from tensorboard<2.2.0,>=2.1.0->tensorflow) (0.4.1)\n",
            "Requirement already satisfied, skipping upgrade: setuptools>=41.0.0 in /usr/local/lib/python3.6/dist-packages (from tensorboard<2.2.0,>=2.1.0->tensorflow) (42.0.2)\n",
            "Collecting google-auth<2,>=1.6.3\n",
            "\u001b[?25l  Downloading https://files.pythonhosted.org/packages/36/f8/84b5771faec3eba9fe0c91c8c5896364a8ba08852c0dea5ad2025026dd95/google_auth-1.10.0-py2.py3-none-any.whl (76kB)\n",
            "\u001b[K     |████████████████████████████████| 81kB 10.2MB/s \n",
            "\u001b[?25hRequirement already satisfied, skipping upgrade: werkzeug>=0.11.15 in /usr/local/lib/python3.6/dist-packages (from tensorboard<2.2.0,>=2.1.0->tensorflow) (0.16.0)\n",
            "Requirement already satisfied, skipping upgrade: h5py in /usr/local/lib/python3.6/dist-packages (from keras-applications>=1.0.8->tensorflow) (2.8.0)\n",
            "Requirement already satisfied, skipping upgrade: chardet<3.1.0,>=3.0.2 in /usr/local/lib/python3.6/dist-packages (from requests<3,>=2.21.0->tensorboard<2.2.0,>=2.1.0->tensorflow) (3.0.4)\n",
            "Requirement already satisfied, skipping upgrade: idna<2.9,>=2.5 in /usr/local/lib/python3.6/dist-packages (from requests<3,>=2.21.0->tensorboard<2.2.0,>=2.1.0->tensorflow) (2.8)\n",
            "Requirement already satisfied, skipping upgrade: urllib3<1.25,>=1.21.1 in /usr/local/lib/python3.6/dist-packages (from requests<3,>=2.21.0->tensorboard<2.2.0,>=2.1.0->tensorflow) (1.24.3)\n",
            "Requirement already satisfied, skipping upgrade: certifi>=2017.4.17 in /usr/local/lib/python3.6/dist-packages (from requests<3,>=2.21.0->tensorboard<2.2.0,>=2.1.0->tensorflow) (2019.11.28)\n",
            "Requirement already satisfied, skipping upgrade: requests-oauthlib>=0.7.0 in /usr/local/lib/python3.6/dist-packages (from google-auth-oauthlib<0.5,>=0.4.1->tensorboard<2.2.0,>=2.1.0->tensorflow) (1.3.0)\n",
            "Requirement already satisfied, skipping upgrade: pyasn1-modules>=0.2.1 in /usr/local/lib/python3.6/dist-packages (from google-auth<2,>=1.6.3->tensorboard<2.2.0,>=2.1.0->tensorflow) (0.2.7)\n",
            "Requirement already satisfied, skipping upgrade: cachetools<5.0,>=2.0.0 in /usr/local/lib/python3.6/dist-packages (from google-auth<2,>=1.6.3->tensorboard<2.2.0,>=2.1.0->tensorflow) (4.0.0)\n",
            "Requirement already satisfied, skipping upgrade: rsa<4.1,>=3.1.4 in /usr/local/lib/python3.6/dist-packages (from google-auth<2,>=1.6.3->tensorboard<2.2.0,>=2.1.0->tensorflow) (4.0)\n",
            "Requirement already satisfied, skipping upgrade: oauthlib>=3.0.0 in /usr/local/lib/python3.6/dist-packages (from requests-oauthlib>=0.7.0->google-auth-oauthlib<0.5,>=0.4.1->tensorboard<2.2.0,>=2.1.0->tensorflow) (3.1.0)\n",
            "Requirement already satisfied, skipping upgrade: pyasn1<0.5.0,>=0.4.6 in /usr/local/lib/python3.6/dist-packages (from pyasn1-modules>=0.2.1->google-auth<2,>=1.6.3->tensorboard<2.2.0,>=2.1.0->tensorflow) (0.4.8)\n",
            "\u001b[31mERROR: tensorboard 2.1.0 has requirement grpcio>=1.24.3, but you'll have grpcio 1.15.0 which is incompatible.\u001b[0m\n",
            "\u001b[31mERROR: google-colab 1.0.0 has requirement google-auth~=1.4.0, but you'll have google-auth 1.10.0 which is incompatible.\u001b[0m\n",
            "Installing collected packages: google-auth, tensorboard, tensorflow-estimator, tensorflow\n",
            "  Found existing installation: google-auth 1.4.2\n",
            "    Uninstalling google-auth-1.4.2:\n",
            "      Successfully uninstalled google-auth-1.4.2\n",
            "  Found existing installation: tensorboard 1.15.0\n",
            "    Uninstalling tensorboard-1.15.0:\n",
            "      Successfully uninstalled tensorboard-1.15.0\n",
            "  Found existing installation: tensorflow-estimator 1.15.1\n",
            "    Uninstalling tensorflow-estimator-1.15.1:\n",
            "      Successfully uninstalled tensorflow-estimator-1.15.1\n",
            "  Found existing installation: tensorflow 1.15.0\n",
            "    Uninstalling tensorflow-1.15.0:\n",
            "      Successfully uninstalled tensorflow-1.15.0\n",
            "Successfully installed google-auth-1.10.0 tensorboard-2.1.0 tensorflow-2.1.0 tensorflow-estimator-2.1.0\n"
          ],
          "name": "stdout"
        },
        {
          "output_type": "display_data",
          "data": {
            "application/vnd.colab-display-data+json": {
              "pip_warning": {
                "packages": [
                  "google"
                ]
              }
            }
          },
          "metadata": {
            "tags": []
          }
        }
      ]
    },
    {
      "cell_type": "code",
      "metadata": {
        "id": "qLlLtt1U7VPb",
        "colab_type": "code",
        "outputId": "bc53e1f8-0d3f-4ecc-b89d-407b883731cc",
        "colab": {
          "base_uri": "https://localhost:8080/",
          "height": 121
        }
      },
      "source": [
        "\n",
        "from google.colab import drive\n",
        "drive.mount('/content/drive')"
      ],
      "execution_count": 2,
      "outputs": [
        {
          "output_type": "stream",
          "text": [
            "Go to this URL in a browser: https://accounts.google.com/o/oauth2/auth?client_id=947318989803-6bn6qk8qdgf4n4g3pfee6491hc0brc4i.apps.googleusercontent.com&redirect_uri=urn%3aietf%3awg%3aoauth%3a2.0%3aoob&response_type=code&scope=email%20https%3a%2f%2fwww.googleapis.com%2fauth%2fdocs.test%20https%3a%2f%2fwww.googleapis.com%2fauth%2fdrive%20https%3a%2f%2fwww.googleapis.com%2fauth%2fdrive.photos.readonly%20https%3a%2f%2fwww.googleapis.com%2fauth%2fpeopleapi.readonly\n",
            "\n",
            "Enter your authorization code:\n",
            "··········\n",
            "Mounted at /content/drive\n"
          ],
          "name": "stdout"
        }
      ]
    },
    {
      "cell_type": "code",
      "metadata": {
        "id": "inSGpNP18C3r",
        "colab_type": "code",
        "colab": {}
      },
      "source": [
        ""
      ],
      "execution_count": 0,
      "outputs": []
    },
    {
      "cell_type": "code",
      "metadata": {
        "id": "Ge3pXvxQBBwn",
        "colab_type": "code",
        "colab": {}
      },
      "source": [
        "import pandas as pd\n",
        "import numpy as np\n",
        "import matplotlib.pyplot as plt\n",
        "import tensorflow as tf\n",
        "import os\n",
        "from tensorflow.keras.preprocessing import image\n",
        "from zipfile import ZipFile \n",
        "\n",
        "from tensorflow.keras.models import Sequential\n",
        "from tensorflow.keras.layers import Conv2D, MaxPooling2D, Flatten, Dense, Dropout, Activation\n",
        "from tensorflow.keras.preprocessing.image import ImageDataGenerator\n",
        "\n"
      ],
      "execution_count": 0,
      "outputs": []
    },
    {
      "cell_type": "code",
      "metadata": {
        "id": "46tP5E_V8k11",
        "colab_type": "code",
        "colab": {}
      },
      "source": [
        "test_dir=\"/content/drive/My Drive/datasets/cats&dogs_classification/CNN classification/dataset/test_set\"\n",
        "train_dir=\"/content/drive/My Drive/datasets/cats&dogs_classification/CNN classification/dataset/training_set\"\n",
        "\n",
        "\n",
        "train_dir_cats = train_dir + '/cats'\n",
        "train_dir_dogs = train_dir + '/dogs'\n",
        "test_dir_cats = test_dir + '/cats'\n",
        "test_dir_dogs = test_dir + '/dogs'"
      ],
      "execution_count": 0,
      "outputs": []
    },
    {
      "cell_type": "code",
      "metadata": {
        "id": "3v6NGds_Aewc",
        "colab_type": "code",
        "outputId": "e9860e7e-63cb-4820-b327-04a8bf4c4a15",
        "colab": {
          "base_uri": "https://localhost:8080/",
          "height": 84
        }
      },
      "source": [
        "print('number of cats training images - ',len(os.listdir(train_dir_cats)))\n",
        "print('number of dogs training images - ',len(os.listdir(train_dir_dogs)))\n",
        "print('number of cats testing images - ',len(os.listdir(test_dir_cats)))\n",
        "print('number of dogs testing images - ',len(os.listdir(test_dir_dogs)))"
      ],
      "execution_count": 6,
      "outputs": [
        {
          "output_type": "stream",
          "text": [
            "number of cats training images -  4000\n",
            "number of dogs training images -  4002\n",
            "number of cats testing images -  1000\n",
            "number of dogs testing images -  1000\n"
          ],
          "name": "stdout"
        }
      ]
    },
    {
      "cell_type": "code",
      "metadata": {
        "id": "dt0XpINHA7vJ",
        "colab_type": "code",
        "outputId": "cea34757-8820-4fc9-8494-468c5b61e31e",
        "colab": {
          "base_uri": "https://localhost:8080/",
          "height": 50
        }
      },
      "source": [
        "train_datagen = ImageDataGenerator(\n",
        "        rescale = 1./255,\n",
        "        shear_range = 0.2,\n",
        "        zoom_range = 0.2,\n",
        "        horizontal_flip = True)\n",
        "\n",
        "test_datagen = ImageDataGenerator(rescale=1./255)\n",
        "\n",
        "training_set = train_datagen.flow_from_directory(\n",
        "         directory='drive/My Drive/datasets/cats&dogs_classification/CNN classification/dataset/training_set',\n",
        "        target_size=(64, 64),\n",
        "        batch_size=64,\n",
        "        shuffle=True,\n",
        "        class_mode='binary')\n",
        "\n",
        "test_set = test_datagen.flow_from_directory(\n",
        "         directory='drive/My Drive/datasets/cats&dogs_classification/CNN classification/dataset/test_set',\n",
        "        target_size=(64, 64),\n",
        "        batch_size=64,\n",
        "        shuffle=True,\n",
        "        class_mode='binary') "
      ],
      "execution_count": 7,
      "outputs": [
        {
          "output_type": "stream",
          "text": [
            "Found 8002 images belonging to 2 classes.\n",
            "Found 2000 images belonging to 2 classes.\n"
          ],
          "name": "stdout"
        }
      ]
    },
    {
      "cell_type": "code",
      "metadata": {
        "id": "ZUgO31UkYPUx",
        "colab_type": "code",
        "colab": {}
      },
      "source": [
        "model = tf.keras.Sequential([\n",
        "        tf.keras.layers.Conv2D(32,3,input_shape=(64,64,3),activation='relu'),\n",
        "        tf.keras.layers.MaxPooling2D(pool_size=(2,2)),\n",
        "        \n",
        "\n",
        "        tf.keras.layers.Conv2D(32,3,activation='relu'),\n",
        "        tf.keras.layers.MaxPooling2D(pool_size=(2,2)),\n",
        "        \n",
        "\n",
        "        tf.keras.layers.Conv2D(64,3,activation='relu'),\n",
        "        tf.keras.layers.MaxPooling2D(pool_size=(2,2)),\n",
        "        tf.keras.layers.Dropout(rate=0.5),\n",
        "\n",
        "\n",
        "        tf.keras.layers.Flatten(),\n",
        "\n",
        "        tf.keras.layers.Dense(128, activation='relu'),\n",
        "        tf.keras.layers.Dropout(rate=0.5),\n",
        "\n",
        "        tf.keras.layers.Dense(64, activation='relu'),\n",
        "        tf.keras.layers.Dropout(rate=0.5),\n",
        "\n",
        "        tf.keras.layers.Dense(1, activation='sigmoid')\n",
        "])"
      ],
      "execution_count": 0,
      "outputs": []
    },
    {
      "cell_type": "code",
      "metadata": {
        "id": "kLjyzLzmBlIV",
        "colab_type": "code",
        "colab": {}
      },
      "source": [
        "\n",
        "\n",
        "model.compile(optimizer = 'adam', loss = 'binary_crossentropy', metrics = ['accuracy'])"
      ],
      "execution_count": 0,
      "outputs": []
    },
    {
      "cell_type": "code",
      "metadata": {
        "id": "X9wQgkJ2CzMX",
        "colab_type": "code",
        "outputId": "9abc0604-ab47-46de-bc53-9b01ab844235",
        "colab": {
          "base_uri": "https://localhost:8080/",
          "height": 588
        }
      },
      "source": [
        "model.summary()"
      ],
      "execution_count": 10,
      "outputs": [
        {
          "output_type": "stream",
          "text": [
            "Model: \"sequential\"\n",
            "_________________________________________________________________\n",
            "Layer (type)                 Output Shape              Param #   \n",
            "=================================================================\n",
            "conv2d (Conv2D)              (None, 62, 62, 32)        896       \n",
            "_________________________________________________________________\n",
            "max_pooling2d (MaxPooling2D) (None, 31, 31, 32)        0         \n",
            "_________________________________________________________________\n",
            "conv2d_1 (Conv2D)            (None, 29, 29, 32)        9248      \n",
            "_________________________________________________________________\n",
            "max_pooling2d_1 (MaxPooling2 (None, 14, 14, 32)        0         \n",
            "_________________________________________________________________\n",
            "conv2d_2 (Conv2D)            (None, 12, 12, 64)        18496     \n",
            "_________________________________________________________________\n",
            "max_pooling2d_2 (MaxPooling2 (None, 6, 6, 64)          0         \n",
            "_________________________________________________________________\n",
            "dropout (Dropout)            (None, 6, 6, 64)          0         \n",
            "_________________________________________________________________\n",
            "flatten (Flatten)            (None, 2304)              0         \n",
            "_________________________________________________________________\n",
            "dense (Dense)                (None, 128)               295040    \n",
            "_________________________________________________________________\n",
            "dropout_1 (Dropout)          (None, 128)               0         \n",
            "_________________________________________________________________\n",
            "dense_1 (Dense)              (None, 64)                8256      \n",
            "_________________________________________________________________\n",
            "dropout_2 (Dropout)          (None, 64)                0         \n",
            "_________________________________________________________________\n",
            "dense_2 (Dense)              (None, 1)                 65        \n",
            "=================================================================\n",
            "Total params: 332,001\n",
            "Trainable params: 332,001\n",
            "Non-trainable params: 0\n",
            "_________________________________________________________________\n"
          ],
          "name": "stdout"
        }
      ]
    },
    {
      "cell_type": "code",
      "metadata": {
        "id": "wUaWxFybCpqG",
        "colab_type": "code",
        "outputId": "d9a9f767-6ed7-4ca1-dc52-edcafb4de217",
        "colab": {
          "base_uri": "https://localhost:8080/",
          "height": 1000
        }
      },
      "source": [
        "Trained_model=model.fit_generator(training_set,\n",
        "                        steps_per_epoch = 125,\n",
        "                        epochs =30 ,\n",
        "                        validation_data = test_set,\n",
        "                        validation_steps =30 )\n",
        "\n",
        "model.save(\"modelcats&dogs.h5\")"
      ],
      "execution_count": 12,
      "outputs": [
        {
          "output_type": "stream",
          "text": [
            "WARNING:tensorflow:sample_weight modes were coerced from\n",
            "  ...\n",
            "    to  \n",
            "  ['...']\n",
            "WARNING:tensorflow:sample_weight modes were coerced from\n",
            "  ...\n",
            "    to  \n",
            "  ['...']\n",
            "Train for 125 steps, validate for 30 steps\n",
            "Epoch 1/30\n",
            "125/125 [==============================] - 325s 3s/step - loss: 0.6799 - accuracy: 0.5593 - val_loss: 0.6510 - val_accuracy: 0.6141\n",
            "Epoch 2/30\n",
            "125/125 [==============================] - 87s 699ms/step - loss: 0.6458 - accuracy: 0.6296 - val_loss: 0.6591 - val_accuracy: 0.5948\n",
            "Epoch 3/30\n",
            "125/125 [==============================] - 88s 703ms/step - loss: 0.6046 - accuracy: 0.6728 - val_loss: 0.5625 - val_accuracy: 0.7146\n",
            "Epoch 4/30\n",
            "125/125 [==============================] - 88s 705ms/step - loss: 0.5863 - accuracy: 0.6843 - val_loss: 0.5334 - val_accuracy: 0.7359\n",
            "Epoch 5/30\n",
            "125/125 [==============================] - 86s 689ms/step - loss: 0.5596 - accuracy: 0.7174 - val_loss: 0.5142 - val_accuracy: 0.7589\n",
            "Epoch 6/30\n",
            "125/125 [==============================] - 87s 693ms/step - loss: 0.5393 - accuracy: 0.7336 - val_loss: 0.4947 - val_accuracy: 0.7672\n",
            "Epoch 7/30\n",
            "125/125 [==============================] - 87s 696ms/step - loss: 0.5234 - accuracy: 0.7395 - val_loss: 0.4723 - val_accuracy: 0.7875\n",
            "Epoch 8/30\n",
            "125/125 [==============================] - 86s 688ms/step - loss: 0.5055 - accuracy: 0.7604 - val_loss: 0.4737 - val_accuracy: 0.7891\n",
            "Epoch 9/30\n",
            "125/125 [==============================] - 88s 701ms/step - loss: 0.4854 - accuracy: 0.7692 - val_loss: 0.5209 - val_accuracy: 0.7479\n",
            "Epoch 10/30\n",
            "125/125 [==============================] - 89s 708ms/step - loss: 0.4879 - accuracy: 0.7683 - val_loss: 0.4693 - val_accuracy: 0.7760\n",
            "Epoch 11/30\n",
            "125/125 [==============================] - 88s 703ms/step - loss: 0.4855 - accuracy: 0.7715 - val_loss: 0.4474 - val_accuracy: 0.7896\n",
            "Epoch 12/30\n",
            "125/125 [==============================] - 88s 705ms/step - loss: 0.4571 - accuracy: 0.7848 - val_loss: 0.4700 - val_accuracy: 0.7792\n",
            "Epoch 13/30\n",
            "125/125 [==============================] - 88s 708ms/step - loss: 0.4491 - accuracy: 0.7916 - val_loss: 0.4130 - val_accuracy: 0.8130\n",
            "Epoch 14/30\n",
            "125/125 [==============================] - 90s 717ms/step - loss: 0.4462 - accuracy: 0.7958 - val_loss: 0.4007 - val_accuracy: 0.8161\n",
            "Epoch 15/30\n",
            "125/125 [==============================] - 90s 716ms/step - loss: 0.4356 - accuracy: 0.8007 - val_loss: 0.4334 - val_accuracy: 0.7901\n",
            "Epoch 16/30\n",
            "125/125 [==============================] - 89s 712ms/step - loss: 0.4197 - accuracy: 0.8080 - val_loss: 0.4049 - val_accuracy: 0.8089\n",
            "Epoch 17/30\n",
            "125/125 [==============================] - 89s 711ms/step - loss: 0.4180 - accuracy: 0.8112 - val_loss: 0.3901 - val_accuracy: 0.8224\n",
            "Epoch 18/30\n",
            "125/125 [==============================] - 89s 709ms/step - loss: 0.4253 - accuracy: 0.8064 - val_loss: 0.3777 - val_accuracy: 0.8349\n",
            "Epoch 19/30\n",
            "125/125 [==============================] - 88s 705ms/step - loss: 0.4063 - accuracy: 0.8183 - val_loss: 0.3936 - val_accuracy: 0.8286\n",
            "Epoch 20/30\n",
            "125/125 [==============================] - 89s 710ms/step - loss: 0.4094 - accuracy: 0.8146 - val_loss: 0.4010 - val_accuracy: 0.8245\n",
            "Epoch 21/30\n",
            "125/125 [==============================] - 88s 703ms/step - loss: 0.3975 - accuracy: 0.8204 - val_loss: 0.3964 - val_accuracy: 0.8229\n",
            "Epoch 22/30\n",
            "125/125 [==============================] - 88s 707ms/step - loss: 0.3910 - accuracy: 0.8275 - val_loss: 0.3933 - val_accuracy: 0.8156\n",
            "Epoch 23/30\n",
            "125/125 [==============================] - 88s 704ms/step - loss: 0.3911 - accuracy: 0.8261 - val_loss: 0.3593 - val_accuracy: 0.8422\n",
            "Epoch 24/30\n",
            "125/125 [==============================] - 88s 700ms/step - loss: 0.3905 - accuracy: 0.8259 - val_loss: 0.4308 - val_accuracy: 0.7995\n",
            "Epoch 25/30\n",
            "125/125 [==============================] - 87s 696ms/step - loss: 0.3826 - accuracy: 0.8320 - val_loss: 0.3905 - val_accuracy: 0.8198\n",
            "Epoch 26/30\n",
            "125/125 [==============================] - 87s 698ms/step - loss: 0.3796 - accuracy: 0.8325 - val_loss: 0.3885 - val_accuracy: 0.8161\n",
            "Epoch 27/30\n",
            "125/125 [==============================] - 86s 692ms/step - loss: 0.3687 - accuracy: 0.8346 - val_loss: 0.3644 - val_accuracy: 0.8344\n",
            "Epoch 28/30\n",
            "125/125 [==============================] - 86s 692ms/step - loss: 0.3626 - accuracy: 0.8400 - val_loss: 0.3811 - val_accuracy: 0.8297\n",
            "Epoch 29/30\n",
            "125/125 [==============================] - 87s 692ms/step - loss: 0.3615 - accuracy: 0.8406 - val_loss: 0.3589 - val_accuracy: 0.8453\n",
            "Epoch 30/30\n",
            "125/125 [==============================] - 86s 689ms/step - loss: 0.3607 - accuracy: 0.8370 - val_loss: 0.3413 - val_accuracy: 0.8479\n"
          ],
          "name": "stdout"
        }
      ]
    },
    {
      "cell_type": "code",
      "metadata": {
        "id": "U3ah6v6hhfD_",
        "colab_type": "code",
        "colab": {}
      },
      "source": [
        ""
      ],
      "execution_count": 0,
      "outputs": []
    },
    {
      "cell_type": "code",
      "metadata": {
        "id": "SUIIOxvGDpxI",
        "colab_type": "code",
        "colab": {}
      },
      "source": [
        ""
      ],
      "execution_count": 0,
      "outputs": []
    },
    {
      "cell_type": "code",
      "metadata": {
        "id": "-GlhSiEYEDxR",
        "colab_type": "code",
        "colab": {}
      },
      "source": [
        "def testing_image(image_directory):\n",
        "    test_image = image.load_img(image_directory, target_size = (64, 64))\n",
        "    test_image = image.img_to_array(test_image)\n",
        "    test_image = np.expand_dims(test_image, axis = 0)\n",
        "    result = model.predict(x = test_image)\n",
        "    print(result)\n",
        "    if result[0][0]  == 1:\n",
        "        prediction = 'Dog'\n",
        "    else:\n",
        "        prediction = 'Cat'\n",
        "    return prediction"
      ],
      "execution_count": 0,
      "outputs": []
    },
    {
      "cell_type": "code",
      "metadata": {
        "id": "_-EwNNrzE0B2",
        "colab_type": "code",
        "colab": {
          "base_uri": "https://localhost:8080/",
          "height": 50
        },
        "outputId": "b15568c8-8888-4e5b-aeb7-178414a12091"
      },
      "source": [
        "print(testing_image(test_dir + '/cats/cat.4078.jpg'))"
      ],
      "execution_count": 44,
      "outputs": [
        {
          "output_type": "stream",
          "text": [
            "[[0.]]\n",
            "Cat\n"
          ],
          "name": "stdout"
        }
      ]
    },
    {
      "cell_type": "code",
      "metadata": {
        "id": "nLMBI0iYE8B1",
        "colab_type": "code",
        "colab": {
          "base_uri": "https://localhost:8080/",
          "height": 50
        },
        "outputId": "f6449930-28ed-4bb0-d32c-c5a7cb14d354"
      },
      "source": [
        "print(testing_image(test_dir + '/dogs/dog.4078.jpg'))"
      ],
      "execution_count": 45,
      "outputs": [
        {
          "output_type": "stream",
          "text": [
            "[[1.]]\n",
            "Dog\n"
          ],
          "name": "stdout"
        }
      ]
    },
    {
      "cell_type": "code",
      "metadata": {
        "id": "6V28AkhNGtMk",
        "colab_type": "code",
        "colab": {}
      },
      "source": [
        ""
      ],
      "execution_count": 0,
      "outputs": []
    }
  ]
}